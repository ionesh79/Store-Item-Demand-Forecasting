{
 "cells": [
  {
   "cell_type": "markdown",
   "id": "71f9ff84-579f-431d-a471-354047ebff2b",
   "metadata": {},
   "source": [
    "# Predict 3 months of item sales at different stores"
   ]
  },
  {
   "cell_type": "code",
   "execution_count": null,
   "id": "70085a91-560e-4e08-b9bb-d7fd32a59894",
   "metadata": {},
   "outputs": [],
   "source": []
  }
 ],
 "metadata": {
  "kernelspec": {
   "display_name": "Python 3 (ipykernel)",
   "language": "python",
   "name": "python3"
  },
  "language_info": {
   "codemirror_mode": {
    "name": "ipython",
    "version": 3
   },
   "file_extension": ".py",
   "mimetype": "text/x-python",
   "name": "python",
   "nbconvert_exporter": "python",
   "pygments_lexer": "ipython3",
   "version": "3.13.2"
  }
 },
 "nbformat": 4,
 "nbformat_minor": 5
}
